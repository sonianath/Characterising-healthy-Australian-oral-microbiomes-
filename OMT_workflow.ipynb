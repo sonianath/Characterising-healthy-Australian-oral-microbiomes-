{
 "cells": [
  {
   "cell_type": "markdown",
   "id": "1f0809f1",
   "metadata": {},
   "source": [
    "# Oral microbiome transplant workflow"
   ]
  },
  {
   "cell_type": "markdown",
   "id": "d0ee1946",
   "metadata": {},
   "source": [
    "Sonia Nath\n",
    "Date- 01/04/2023"
   ]
  },
  {
   "cell_type": "markdown",
   "id": "bad8a419",
   "metadata": {},
   "source": [
    "Oral microbiome transplantation is a novel concept of tranferring microbiota from a healthy donor to a recipient with oral disease. The donor should have a stable, diverse and abundant and healthy microbiome that would result in oral health outcomes in the recipeient host with dental caries. \n",
    "This describes the QIIME2 bioinformatics workflow for analysis. "
   ]
  },
  {
   "cell_type": "markdown",
   "id": "773fd828",
   "metadata": {},
   "source": [
    "We analyse the data we used Quantitative Insight Microbial Ecology version 2 bioinformatics platform.\n",
    "qiime2-2022.11 version"
   ]
  },
  {
   "cell_type": "markdown",
   "id": "7cdca3a9",
   "metadata": {},
   "source": [
    "*Special notes about the dataset:*\n",
    "There were two sequencing runs. June_run and November_run. Both the files need to be merged together. \n",
    "November_run has 82 samples, 10 EBCs, 17 washes, and 14 PCR. Total files 123.\n",
    "June run has 9 samples, 4 EBC and 3 PCR controls. =Total  16\n",
    "Combined samples size is 82+9 = 91 samples Total files 123+16=139"
   ]
  },
  {
   "cell_type": "markdown",
   "id": "61bd4a0e",
   "metadata": {},
   "source": [
    "***"
   ]
  },
  {
   "cell_type": "markdown",
   "id": "6e4f8e55",
   "metadata": {},
   "source": [
    "## Step 1. Copying and making a directory"
   ]
  },
  {
   "cell_type": "markdown",
   "id": "54a00601",
   "metadata": {},
   "source": [
    "Make a new directory.  "
   ]
  },
  {
   "cell_type": "code",
   "execution_count": null,
   "id": "dc935ce3",
   "metadata": {},
   "outputs": [],
   "source": [
    "cd /a1799090/November_run\n",
    "mkdir run_copy_november"
   ]
  },
  {
   "cell_type": "markdown",
   "id": "18709e19",
   "metadata": {},
   "source": [
    "Create a .txt file for samples to copy---- sample_list_to_copy.txt and explore the file. The head command will give the first 10 in the list."
   ]
  },
  {
   "cell_type": "code",
   "execution_count": null,
   "id": "f1f2ebe9",
   "metadata": {},
   "outputs": [],
   "source": [
    "head sample_list_to_copy.txt"
   ]
  },
  {
   "cell_type": "markdown",
   "id": "06cfddd0",
   "metadata": {},
   "source": []
  },
  {
   "cell_type": "markdown",
   "id": "22cc443c",
   "metadata": {},
   "source": [
    "To explore the folder, the first command is to see the folder with the sizr and the second command gives only the names. "
   ]
  },
  {
   "cell_type": "markdown",
   "id": "69e1958c",
   "metadata": {},
   "source": []
  },
  {
   "cell_type": "code",
   "execution_count": null,
   "id": "06fec466",
   "metadata": {},
   "outputs": [],
   "source": [
    "ls -al\n",
    "ls -a"
   ]
  },
  {
   "cell_type": "markdown",
   "id": "1e157769",
   "metadata": {},
   "source": [
    "The run_1 folder has all the files. Copying files from run_1 to run_copy"
   ]
  },
  {
   "cell_type": "code",
   "execution_count": null,
   "id": "ed974fae",
   "metadata": {},
   "outputs": [],
   "source": [
    "for file in $(cat sample_list_to_copy.txt) ; do cp /a1799090/November_run/run_1/\"$file\"*.fastq.gz run_copy ; done"
   ]
  },
  {
   "cell_type": "code",
   "execution_count": null,
   "id": "8a300dd9",
   "metadata": {},
   "outputs": [],
   "source": [
    "cd run_copy\n",
    "ls -a\n",
    "ls -al\n",
    "ls -lh\n",
    "ls -alh #some weird files at the beginning of the list\n",
    "ls -alh | wc -l  # counts the files\n",
    "ls -alh | head  # gave a count of 250, counting the weird files in the beginning. \n",
    "ls -1 | wc -l  #gave a result of 246, which is all the 123 files"
   ]
  },
  {
   "cell_type": "markdown",
   "id": "4267cd65",
   "metadata": {},
   "source": [
    "<div class=\"alert alert-block alert-info\">**Troubleshooting Notes**:\n",
    "ls -al 9112022PCRneg*   # to see if the names are correct in the files\n",
    "cp 9112022PCRneg* ../run_copy   ## to copy individual files to run_copy"
   ]
  },
  {
   "cell_type": "markdown",
   "id": "02ae5bf0",
   "metadata": {},
   "source": [
    "Now for June_run"
   ]
  },
  {
   "cell_type": "markdown",
   "id": "6a901087",
   "metadata": {},
   "source": [
    "cd a1799090/June_run/\n",
    "Files present in the June_run include sample-metadata_june.xlsx, sample_list_to_copy, \n",
    "run_1 (folder has all the fast q files from June).\n",
    "Make directory run_copy_june"
   ]
  },
  {
   "cell_type": "code",
   "execution_count": null,
   "id": "a37a7798",
   "metadata": {},
   "outputs": [],
   "source": [
    "mkdir run_copy_june\n",
    "head sample_list_to_copy.txt"
   ]
  },
  {
   "cell_type": "code",
   "execution_count": null,
   "id": "062b013b",
   "metadata": {},
   "outputs": [],
   "source": [
    "for file in $(cat sample_list_to_copy.txt) ; do cp a1799090/June_run/run_1/*\"$file\"*.fastq.gz run_copy_june ; done"
   ]
  },
  {
   "cell_type": "code",
   "execution_count": null,
   "id": "935c2f41",
   "metadata": {},
   "outputs": [],
   "source": [
    "cd a1799090/June_run/run_copy_june\n",
    "ls -al\n",
    "ls -alh\n",
    "ls -alh | head\n",
    "ls -1 | wc -l "
   ]
  },
  {
   "cell_type": "markdown",
   "id": "dcff0530",
   "metadata": {},
   "source": [
    "**Troubleshooting Notes**\n",
    "In case the copy function didn't work, then may need to copy code. \n",
    "cd a1799090/June_run/run_copy_june\n",
    "cp SE18PLQPBS169Single* ../run_copy_june\n",
    "\n",
    "also if the loop doesn't work follow the steps to install homebrew.\n",
    "/bin/bash -c \"$(curl -fsSL https://raw.githubusercontent.com/Homebrew/install/HEAD/install.sh)\"\n",
    "OR\n",
    "sudo /bin/bash -c \"$(curl -fsSL https://raw.githubusercontent.com/Homebrew/install/HEAD/install.sh)\"\n",
    "\n",
    "Then install dos2unix\n",
    "brew install dos2unix\n",
    "dos2unix sample_list_to_copy.txt\n",
    "\n",
    "Then use the above loop."
   ]
  },
  {
   "cell_type": "markdown",
   "id": "cea87805",
   "metadata": {},
   "source": [
    "Merging Folders June_run and November_run"
   ]
  },
  {
   "cell_type": "markdown",
   "id": "79888f5d",
   "metadata": {},
   "source": []
  },
  {
   "cell_type": "code",
   "execution_count": null,
   "id": "71361935",
   "metadata": {},
   "outputs": [],
   "source": [
    "cp run_copy_june a1799090/November_run/run_copy_june\n",
    "###Go to November_run folder\n",
    "cd /Users/spn5456/November_run\n",
    "###Now create a directory run_all that will contain all the files\n",
    "mkdir run_all\n",
    "cp -fr run_copy_June/ run_all/ && cp -fr run_copy_november/ run_all/\n",
    "ls -1 | wc -l"
   ]
  },
  {
   "cell_type": "markdown",
   "id": "202627b3",
   "metadata": {},
   "source": [
    "The run_all folder should have 278 total files   139*2 (one forward and reverse read)"
   ]
  },
  {
   "cell_type": "code",
   "execution_count": null,
   "id": "4706d5db",
   "metadata": {},
   "outputs": [],
   "source": [
    "## To see all the previous commands\n",
    "fc -l 1 100\n",
    "fc -1 | grep ssh"
   ]
  },
  {
   "cell_type": "markdown",
   "id": "1977a61e",
   "metadata": {},
   "source": [
    "***"
   ]
  },
  {
   "cell_type": "markdown",
   "id": "7ce5faba",
   "metadata": {},
   "source": [
    "## Step 2. QIIME2 analysis"
   ]
  },
  {
   "cell_type": "markdown",
   "id": "b3babf03",
   "metadata": {},
   "source": [
    "### A. Data import"
   ]
  },
  {
   "cell_type": "markdown",
   "id": "e22e5c00",
   "metadata": {},
   "source": [
    "Make a new directory to store all qiime analysis"
   ]
  },
  {
   "cell_type": "code",
   "execution_count": null,
   "id": "dee24fac",
   "metadata": {},
   "outputs": [],
   "source": [
    "cd\n",
    "ls\n",
    "mkdir qiime2analysis\n",
    "cd qiime2analaysis"
   ]
  },
  {
   "cell_type": "code",
   "execution_count": null,
   "id": "e790b9e6",
   "metadata": {},
   "outputs": [],
   "source": [
    "#activate qiime\n",
    "conda activate qiime2-2022.11"
   ]
  },
  {
   "cell_type": "markdown",
   "id": "9d3bfe46",
   "metadata": {},
   "source": [
    "Run the command to import the raw data from run_copy and export it to a single Qiime2 artefact file, demux-paired-end.qza. Use the run_all file that contain all the paired fastq files. "
   ]
  },
  {
   "cell_type": "code",
   "execution_count": null,
   "id": "e22230af",
   "metadata": {},
   "outputs": [],
   "source": [
    "!qiime tools import \\\n",
    "  --type 'SampleData[PairedEndSequencesWithQuality]' \\\n",
    "  --input-path run_all \\\n",
    "  --input-format CasavaOneEightSingleLanePerSampleDirFmt \\\n",
    "  --output-path demux-paired-end.qza"
   ]
  },
  {
   "cell_type": "markdown",
   "id": "3a95a4ed",
   "metadata": {},
   "source": [
    "The name was long and changed name demux-paired-end.qza to demux.qza"
   ]
  },
  {
   "cell_type": "code",
   "execution_count": null,
   "id": "af69147f",
   "metadata": {},
   "outputs": [],
   "source": [
    "!mv demux-paired-end.qza demux.qza"
   ]
  },
  {
   "cell_type": "markdown",
   "id": "6af2079f",
   "metadata": {},
   "source": [
    "### B. Visualising the sequence quality"
   ]
  },
  {
   "cell_type": "markdown",
   "id": "fdb29904",
   "metadata": {},
   "source": [
    "To summarise the output. The demux summarise provides with a visual information of the distribution of sequence qualities at each position in the sequence data for the next step in the pipeline. "
   ]
  },
  {
   "cell_type": "code",
   "execution_count": null,
   "id": "714d8280",
   "metadata": {},
   "outputs": [],
   "source": [
    "!qiime demux summarize \\\n",
    "  --i-data demux.qza \\\n",
    "  --o-visualization demux.qzv"
   ]
  },
  {
   "cell_type": "markdown",
   "id": "ac5caf56",
   "metadata": {},
   "source": [
    " Things to look for 1. Where does the median quality drop below 30. 2. Do any of the samples have only few sequences i.e., less than 1000. If so, I would want to omit them from the analysis. "
   ]
  },
  {
   "cell_type": "code",
   "execution_count": null,
   "id": "0de303c7",
   "metadata": {},
   "outputs": [],
   "source": [
    "!qiime tools view demux.qzv ###directly opens qiime2 viewer"
   ]
  },
  {
   "cell_type": "markdown",
   "id": "2b9743d4",
   "metadata": {},
   "source": [
    "The forward sequence looks like 230 and reverse looks like 200, going with 200. Setting the threshold to 30."
   ]
  },
  {
   "cell_type": "markdown",
   "id": "397701e0",
   "metadata": {},
   "source": [
    "The next step is to clean the data according to sequence error sung the deblur."
   ]
  },
  {
   "cell_type": "code",
   "execution_count": null,
   "id": "dc6e491c",
   "metadata": {},
   "outputs": [],
   "source": [
    "!qiime quality-filter q-score \\\n",
    "    --i-demux demux.qza \\\n",
    "    --o-filtered-sequences dumux-filtered.qza \\ ## used in the next step\n",
    "    --o-filter-stats demux-filter-stats.qza ## we will visualise this file later on "
   ]
  },
  {
   "cell_type": "markdown",
   "id": "5b1e9d2e",
   "metadata": {},
   "source": [
    "Files used from the quality filter q score creating .qzv files\n",
    "assess the output data. The second output."
   ]
  },
  {
   "cell_type": "code",
   "execution_count": null,
   "id": "c349c7a7",
   "metadata": {},
   "outputs": [],
   "source": [
    "!qiime metadata tabulate \\\n",
    "  --m-input-file demux-filter-stats.qza \\\n",
    "  --o-visualization demux-filter-stats.qzv\n",
    "\n",
    "!qiime tools view demux-filter-stats.qzv"
   ]
  },
  {
   "cell_type": "markdown",
   "id": "7e60bd30",
   "metadata": {},
   "source": [
    "Lots of samples had low read less than 10. \n",
    "This samples were removed in the next steps\n",
    "11282022PCRNeg1 12052022PCRNeg  12142022PCRNeg 12162022PCRneg1 MS53PLQ0610 MS76PLQ0710 MS86PLQ0710 MS93PLQ0710 MS98PLQ0710 MS99PLQ0710 MS107PLQ0610 MS108PLQ0610 MS171PLQ1010 MS177PLQ1010 MS189PLQ0710 MS191PLQ0610 MS203PLQ1010 MS206PLQ1010 MS219PLQ0610 MS223PLQ0610 MS244PLQ0610"
   ]
  },
  {
   "cell_type": "markdown",
   "id": "efc31e88",
   "metadata": {},
   "source": [
    "### C. Denoising sequences, and feature table construction"
   ]
  },
  {
   "cell_type": "markdown",
   "id": "00e97868",
   "metadata": {},
   "source": [
    "We used deblur to denoise-paired ends. This method allows to remove low quality regions of the sequence."
   ]
  },
  {
   "cell_type": "code",
   "execution_count": null,
   "id": "db044e57",
   "metadata": {},
   "outputs": [],
   "source": [
    "!qiime deblur denoise-16S \\\n",
    " --i-demultiplexed-seqs dumux-filtered.qza \\\n",
    " --p-trim-length 200 \\--p-sample-stats \\\n",
    " --o-representative-sequences representative-sequences.qza \\\n",
    " --o-table table.qza \\\n",
    " --o-stats denoising-stats.qza"
   ]
  },
  {
   "cell_type": "markdown",
   "id": "691f839b",
   "metadata": {},
   "source": [
    "Three output generated:\n",
    "1. The table.qza is the feature table file. This is FeatureTable[Frequency] QIIME2 artefact that contain counts (frequencines ) of each unique sequences in each of the OMT dataset. \n",
    "2. The name was changed of epresentative-sequences.qza rep-seqs.qza. The rep-seq is a FeatureData[Sequence] QIIME2 artefact that maps feature identifier in the Featuretable to the sequences they represent. \n",
    "3. And the third output denoising stats"
   ]
  },
  {
   "cell_type": "code",
   "execution_count": null,
   "id": "b2044d02",
   "metadata": {},
   "outputs": [],
   "source": [
    "!mv representative-sequences.qza rep-seqs.qza"
   ]
  },
  {
   "cell_type": "markdown",
   "id": "61e5d0be",
   "metadata": {},
   "source": [
    "### D. Visualising all the files"
   ]
  },
  {
   "cell_type": "code",
   "execution_count": null,
   "id": "f3e0f9e8",
   "metadata": {},
   "outputs": [],
   "source": [
    "!qiime deblur visualize-stats \\\n",
    "  --i-deblur-stats denoising-stats.qza \\\n",
    "  --o-visualization deblur-stats.qzv"
   ]
  },
  {
   "cell_type": "code",
   "execution_count": null,
   "id": "66e26e28",
   "metadata": {},
   "outputs": [],
   "source": [
    "!qiime feature-table summarize \\\n",
    "  --i-table table.qza \\\n",
    "  --o-visualization table.qzv \\\n",
    "  --m-sample-metadata-file sample-metadata.tsv"
   ]
  },
  {
   "cell_type": "markdown",
   "id": "6e8f7596",
   "metadata": {},
   "source": [
    "The visualisation graphs shoes that some samples were filtered out in the denoising step. From 139 reduced to 117 samples\n",
    "###### *21 samples were filtered. Biological samples were 74; control wash 19; control_PCR 13; control EBC 11*"
   ]
  },
  {
   "cell_type": "code",
   "execution_count": null,
   "id": "d9438fe1",
   "metadata": {},
   "outputs": [],
   "source": [
    "!qiime feature-table tabulate-seqs \\\n",
    "  --i-data rep-seqs.qza \\\n",
    "  --o-visualization rep-seqs.qzv"
   ]
  },
  {
   "cell_type": "markdown",
   "id": "65249967",
   "metadata": {},
   "source": [
    "## Step 3. Building a phylogenetic tree"
   ]
  },
  {
   "cell_type": "markdown",
   "id": "1b4e8c24",
   "metadata": {},
   "source": [
    "A phylogenetic tree is created on order to generate phylogenetic diversity metrics, such as alpha and beta diversity. A rooted phylogentic tree is created which relates the feature to one another. \n",
    "To generate a phylogenetic tree of representative sequences the first is the alignment of representative sequnces."
   ]
  },
  {
   "cell_type": "code",
   "execution_count": null,
   "id": "6d9718d8",
   "metadata": {},
   "outputs": [],
   "source": [
    "!qiime alignment mafft \\\n",
    "  --i-sequences rep-seqs.qza \\\n",
    "  --o-alignment aligned-rep-seqs.qza"
   ]
  },
  {
   "cell_type": "markdown",
   "id": "1c2e75f4",
   "metadata": {},
   "source": [
    "To mask position that are highly variable (non-biological)"
   ]
  },
  {
   "cell_type": "code",
   "execution_count": null,
   "id": "7a3aff8e",
   "metadata": {},
   "outputs": [],
   "source": [
    "!qiime alignment mask \\\n",
    "  --i-alignment aligned-rep-seqs.qza \\\n",
    "  --o-masked-alignment masked-aligned-rep-seqs.qza"
   ]
  },
  {
   "cell_type": "markdown",
   "id": "33a7e401",
   "metadata": {},
   "source": [
    "Use fastree to make the alignment into a tree"
   ]
  },
  {
   "cell_type": "code",
   "execution_count": null,
   "id": "0950c314",
   "metadata": {},
   "outputs": [],
   "source": [
    "!qiime phylogeny fasttree \\\n",
    "  --i-alignment masked-aligned-rep-seqs.qza \\\n",
    "  --o-tree unrooted-tree.qza"
   ]
  },
  {
   "cell_type": "markdown",
   "id": "6f165f46",
   "metadata": {},
   "source": [
    "The last step is to root the tree"
   ]
  },
  {
   "cell_type": "code",
   "execution_count": null,
   "id": "7b4d318f",
   "metadata": {},
   "outputs": [],
   "source": [
    "!qiime phylogeny midpoint-root \\\n",
    "  --i-tree unrooted-tree.qza \\\n",
    "  --o-rooted-tree rooted-tree.qza"
   ]
  },
  {
   "cell_type": "markdown",
   "id": "083412ab",
   "metadata": {},
   "source": [
    "## Step 4. Taxonomic analysis"
   ]
  },
  {
   "cell_type": "markdown",
   "id": "a9c466ef",
   "metadata": {},
   "source": [
    "### A. Assign taxonomy"
   ]
  },
  {
   "cell_type": "markdown",
   "id": "f4a9d015",
   "metadata": {},
   "source": [
    "This step is to identify the taxonomies in the samples. The ASVs are limited and identifying the bacterial strains would be more useful. It is to put a name to the ASVs. \n",
    "This is done in two steps. First we need a  reference database, and second we need an alogorithm for identifying these sequences using the database. "
   ]
  },
  {
   "cell_type": "markdown",
   "id": "b39167af",
   "metadata": {},
   "source": [
    "Before starting we need to download the taxonomic classifer from here:\n",
    "https://docs.qiime2.org/2022.8/data-resources/\n",
    "downloaded the silva 138 99% OTU full-length sequence"
   ]
  },
  {
   "cell_type": "code",
   "execution_count": null,
   "id": "f2e9f2c8",
   "metadata": {},
   "outputs": [],
   "source": [
    "!qiime feature-classifier classify-sklearn \\\n",
    "  --i-classifier silva-138-99-515-806-nb-classifier.qza \\\n",
    "  --i-reads rep-seqs.qza \\\n",
    "  --o-classification taxonomy.qza"
   ]
  },
  {
   "cell_type": "code",
   "execution_count": null,
   "id": "195b740e",
   "metadata": {},
   "outputs": [],
   "source": [
    "!qiime metadata tabulate \\\n",
    "  --m-input-file taxonomy.qza \\\n",
    "  --o-visualization taxonomy.qzv\n",
    "\n",
    "!qiime tools view taxanomy.qzv"
   ]
  },
  {
   "cell_type": "markdown",
   "id": "9bcc2449",
   "metadata": {},
   "source": [
    "### B. Exploring the dataset. "
   ]
  },
  {
   "cell_type": "markdown",
   "id": "d4c07fc1",
   "metadata": {},
   "source": [
    "The data set was ecplored to see the differences between the biological samples and control. We had three types of controls in the dataset; the curette washes, extraction blank control (EBC) and PCR controls. "
   ]
  },
  {
   "cell_type": "markdown",
   "id": "8eb77322",
   "metadata": {},
   "source": [
    "Building taxabar plots for visualisation to see differences in samples and control. Use control-(Y/N) metacolumn in the sample metadata sheet to observe the differences. \n",
    "Alpha and beta diversity plots are used to observe the differences"
   ]
  },
  {
   "cell_type": "code",
   "execution_count": null,
   "id": "2948b271",
   "metadata": {},
   "outputs": [],
   "source": [
    "!qiime taxa barplot \\\n",
    "  --i-table table.qza \\\n",
    "  --i-taxonomy taxonomy.qza \\\n",
    "  --m-metadata-file sample-metadata.txt \\\n",
    "  --o-visualization Taxonomy_BarPlots.qzv"
   ]
  },
  {
   "cell_type": "code",
   "execution_count": null,
   "id": "58d152e9",
   "metadata": {},
   "outputs": [],
   "source": [
    "!qiime feature-table summarize \\\n",
    "  --i-table table.qza \\\n",
    "  --o-visualization table.qzv \\\n",
    "  --m-sample-metadata-file sample-metadata.tsv"
   ]
  },
  {
   "cell_type": "code",
   "execution_count": null,
   "id": "6a95f810",
   "metadata": {},
   "outputs": [],
   "source": [
    " !qiime diversity core-metrics \\\n",
    "  --i-table table.qza \\\n",
    "  --p-sampling-depth 2000 \\\n",
    "  --m-metadata-file sample-metadata.txt \\\n",
    "  --output-dir CoreDiversity_Results"
   ]
  },
  {
   "cell_type": "code",
   "execution_count": null,
   "id": "8af75644",
   "metadata": {},
   "outputs": [],
   "source": [
    "!qiime diversity core-metrics \\\n",
    "  --i-table table.qza \\\n",
    "  --p-sampling-depth 700 \\\n",
    "  --m-metadata-file sample-metadata.txt \\\n",
    "  --output-dir CoreDiversity_Results_tree \\\n",
    "  --tree rooted-tree.qza"
   ]
  },
  {
   "cell_type": "code",
   "execution_count": null,
   "id": "5cb521d8",
   "metadata": {},
   "outputs": [],
   "source": [
    "!qiime diversity alpha-rarefaction \\\n",
    "  --i-table table.qza \\\n",
    "  --p-max-depth 2000 \\\n",
    "  --m-metadata-file sample-metadata.txt \\\n",
    "  --o-visualization CoreDiversity_Results/alpha_rarefaction.qzv"
   ]
  },
  {
   "cell_type": "code",
   "execution_count": null,
   "id": "ed00bef9",
   "metadata": {},
   "outputs": [],
   "source": [
    "!qiime diversity alpha-group-significance \\\n",
    "  --i-alpha-diversity CoreDiversity_Results/observed_features_vector.qza \\\n",
    "  --m-metadata-file sample-metadata.txt \\\n",
    "  --o-visualization CoreDiversity_Results/observed_features.qzv"
   ]
  },
  {
   "cell_type": "code",
   "execution_count": null,
   "id": "bb287b67",
   "metadata": {},
   "outputs": [],
   "source": [
    "!qiime diversity alpha-group-significance \\\n",
    "  --i-alpha-diversity CoreDiversity_Results/shannon_vector.qza \\\n",
    "  --m-metadata-file sample-metadata.txt \\\n",
    "  --o-visualization CoreDiversity_Results/shannon_vector_significance.qzv"
   ]
  },
  {
   "cell_type": "code",
   "execution_count": null,
   "id": "fd804693",
   "metadata": {},
   "outputs": [],
   "source": [
    "!qiime diversity beta-group-significance \\\n",
    "  --i-distance-matrix CoreDiversity_Results/bray_curtis_distance_matrix.qza \\\n",
    "  --m-metadata-column Control \\\n",
    "  --m-metadata-file sample-metadata.txt \\\n",
    "  --p-pairwise \\\n",
    "  --o-visualization CoreDiversity_Results/bray_curtis_significance_Control.qzv"
   ]
  },
  {
   "cell_type": "markdown",
   "id": "8be9f5ec",
   "metadata": {},
   "source": [
    " #### Using Aitchinson Distance Matrix (AM) for Taxonomic data \n",
    " pip install deicode"
   ]
  },
  {
   "cell_type": "code",
   "execution_count": null,
   "id": "087d0be7",
   "metadata": {},
   "outputs": [],
   "source": [
    "!mkdir CoreDiversity_Results/Aitchinson"
   ]
  },
  {
   "cell_type": "code",
   "execution_count": null,
   "id": "eea18ac7",
   "metadata": {},
   "outputs": [],
   "source": [
    "# Create AM with Deicode tool\n",
    "!qiime deicode rpca \\\n",
    "    --i-table table.qza \\\n",
    "    --p-min-feature-count 10 \\\n",
    "    --o-biplot CoreDiversity_Results/Aitchinson/AM-ordination.qza \\\n",
    "    --o-distance-matrix CoreDiversity_Results/Aitchinson/aitchison-distance.qza "
   ]
  },
  {
   "cell_type": "code",
   "execution_count": null,
   "id": "94bdb8d7",
   "metadata": {},
   "outputs": [],
   "source": [
    "#Plot biplot with 3 features \n",
    "!qiime emperor biplot \\\n",
    "    --i-biplot CoreDiversity_Results/Aitchinson/AM-ordination.qza \\\n",
    "    --m-sample-metadata-file sample-metadata.txt \\\n",
    "    --o-visualization CoreDiversity_Results/Aitchinson/biplot-3-features.qzv \\\n",
    "    --p-number-of-features 3 "
   ]
  },
  {
   "cell_type": "code",
   "execution_count": null,
   "id": "31894791",
   "metadata": {},
   "outputs": [],
   "source": [
    "# Plot biplot with 10 features\n",
    "!qiime emperor biplot \\\n",
    "    --i-biplot CoreDiverisy_Results/Aitchinson/AM-ordination.qza \\\n",
    "    --m-sample-metadata-file sample-metadata.txt \\\n",
    "    --o-visualization CoreDiversity_Results/Aitchinson/biplot-10-features.qzv \\\n",
    "    --p-number-of-features 10"
   ]
  },
  {
   "cell_type": "markdown",
   "id": "b5e8ce85",
   "metadata": {},
   "source": [
    "Changing the files for Genus level, to names are shown instead of taxonomic ids"
   ]
  },
  {
   "cell_type": "code",
   "execution_count": null,
   "id": "e47778ec",
   "metadata": {},
   "outputs": [],
   "source": [
    "!qiime taxa collapse \\\n",
    "--i-table table.qza \\\n",
    "--i-taxonomy taxonomy.qza \\\n",
    "--p-level 6 \\\n",
    "--o-collapsed-table table_genus.qza"
   ]
  },
  {
   "cell_type": "code",
   "execution_count": null,
   "id": "70c56f3c",
   "metadata": {},
   "outputs": [],
   "source": [
    "!qiime feature-table summarize \\\n",
    "  --i-table table_genus.qza \\\n",
    "  --o-visualization table_genus.qzv \\\n",
    "  --m-sample-metadata-file sample-metadata.txt"
   ]
  },
  {
   "cell_type": "markdown",
   "id": "531776f6",
   "metadata": {},
   "source": [
    "Repeating the steps again. Instead for feature name it will now show the genus name"
   ]
  },
  {
   "cell_type": "code",
   "execution_count": null,
   "id": "66275d42",
   "metadata": {},
   "outputs": [],
   "source": [
    "# Create AM with Deicode tool\n",
    "!qiime deicode rpca \\\n",
    "    --i-table table_genus.qza \\\n",
    "    --p-min-feature-count 10 \\\n",
    "    --o-biplot CoreDiversity_Results/Aitchinson/AM-ordination-genus.qza \\\n",
    "    --o-distance-matrix CoreDiversity_Results/Aitchinson/aitchison-distance-genus.qza \n",
    "\n",
    "# Plot biplot with 3 features \n",
    "!qiime emperor biplot \\\n",
    "    --i-biplot CoreDiversity_Results/Aitchinson/AM-ordination-genus.qza \\\n",
    "    --m-sample-metadata-file sample-metadata.txt \\\n",
    "    --o-visualization CoreDiversity_Results/Aitchinson/biplot-3-features-genus.qzv \\\n",
    "    --p-number-of-features 3 "
   ]
  },
  {
   "cell_type": "markdown",
   "id": "2846facb",
   "metadata": {},
   "source": [
    "#### Beta diversity group significance tests with AM "
   ]
  },
  {
   "cell_type": "code",
   "execution_count": null,
   "id": "013d99df",
   "metadata": {},
   "outputs": [],
   "source": [
    "# Beta diversity group significance (Aitchinson): Caries\n",
    "!qiime diversity beta-group-significance \\\n",
    "  --i-distance-matrix CoreDiversity_Results/Aitchinson/aitchison-distance.qza \\\n",
    "  --m-metadata-file sample-metadata.txt \\\n",
    "  --m-metadata-column SampleORControl \\\n",
    "  --o-visualization CoreDiversity_Results/BetaSig-PNOVA/vis-AM-SOC-significance.qzv \\\n",
    "  --p-pairwise "
   ]
  },
  {
   "cell_type": "markdown",
   "id": "285c4d53",
   "metadata": {},
   "source": [
    "### All the plots looks good!!\n",
    "We could see clear differences in the sample and controls in the alpha diversity plots. \n",
    "The beta diversity; the bray curtis showed clear cluster separation of controls and biological samples. All the controls clutered together. \n",
    "There were few curette washes (5) that clustered together with the washes. "
   ]
  },
  {
   "cell_type": "markdown",
   "id": "77b4847d",
   "metadata": {},
   "source": [
    "## Step 5. Filtering and decontamination steps"
   ]
  },
  {
   "cell_type": "markdown",
   "id": "58a09da5",
   "metadata": {},
   "source": [
    "We need to use decontam in R in the next step to filter out the contaminants present.\n",
    "The decontamination would be done in two steps\n",
    "A. First only the real controls, ie.EBC and PCR\n",
    "B. Then the curette wash control"
   ]
  },
  {
   "cell_type": "markdown",
   "id": "419d0bb7",
   "metadata": {},
   "source": [
    "### A.1. Filtering the samples and the controls (EBC and PCR) "
   ]
  },
  {
   "cell_type": "markdown",
   "id": "370350e1",
   "metadata": {},
   "source": [
    "Using the filtering function in QIIME2"
   ]
  },
  {
   "cell_type": "code",
   "execution_count": null,
   "id": "8386400f",
   "metadata": {},
   "outputs": [],
   "source": [
    "!qiime feature-table filter-samples \\\n",
    "--i-table table.qza \\\n",
    "--m-metadata-file sample-metadata.tsv \\\n",
    "--p-where \"[SampleORControl] IN ('sample', 'control_EBC', 'control_PCR')\" \\\n",
    "--o-filtered-table table-filtered-controls-EBC-PCR.qza    \n",
    "\n",
    "#### view the table ###\n",
    "!qiime feature-table summarize \\\n",
    "--i-table table-filtered-controls-EBC-PCR.qza \\\n",
    "--o-visualization table-controls-EBC-PCR.qzv \\\n",
    "--m-sample-metadata-file sample-metadata.tsv\n",
    "\n",
    "!qiime tools view table-filtered-controls-EBC-PCR.qzv"
   ]
  },
  {
   "cell_type": "markdown",
   "id": "f03dc347",
   "metadata": {},
   "source": [
    "Note: The table summary showed Biological samples were 74;  control_PCR 13; control EBC 13. In total 100 samples"
   ]
  },
  {
   "cell_type": "markdown",
   "id": "0a059bba",
   "metadata": {},
   "source": [
    "### A.2. Go to R for decontam (Filter step 1)"
   ]
  },
  {
   "cell_type": "markdown",
   "id": "6ce09380",
   "metadata": {},
   "source": [
    "Use the sammple-metadata file, and table-filtered-controls-EBC-PCR.qza in decontam\n",
    "\n",
    "Run the script for decontam and this will generate a contaminant list. \n",
    "contaminant_list.tsv"
   ]
  },
  {
   "cell_type": "code",
   "execution_count": null,
   "id": "6e0836df",
   "metadata": {},
   "outputs": [],
   "source": [
    "cp contaminant_list.tsv contaminant_list-controls-EBC-PCR.tsv"
   ]
  },
  {
   "cell_type": "markdown",
   "id": "83060195",
   "metadata": {},
   "source": [
    "### A.3.Filter out the contaminants from PCR and EBC"
   ]
  },
  {
   "cell_type": "code",
   "execution_count": null,
   "id": "f4a01d05",
   "metadata": {},
   "outputs": [],
   "source": [
    "!qiime feature-table filter-features \\\n",
    "  --i-table table.qza \\\n",
    "  --p-exclude-ids \\\n",
    "  --m-metadata-file contaminants_list-controls-EBC-PCR.tsv \\\n",
    "  --o-filtered-table decontaminated-controls-EBC-PCR.qza\n",
    "  \n",
    "## Visualise results from post-decontamination to cross-check that results are consistent with results from R.\n",
    "!qiime feature-table summarize \\\n",
    "  --i-table decontaminated-controls-EBC-PCR.qza \\\n",
    "  --m-sample-metadata-file sample-metadata.tsv \\\n",
    "  --o-visualization decontaminated-controls-EBC-PCR.qzv"
   ]
  },
  {
   "cell_type": "markdown",
   "id": "b4d85571",
   "metadata": {},
   "source": [
    "##### 978 ASVs features remaining; initially the raw file had 1004, and decontam detected 26 contaminants. 1004-978= 26\n",
    "Note: Biological samples were 74 (unchanged); control wash 16 (17); control_PCR 11 (13); control EBC 13 (13)"
   ]
  },
  {
   "cell_type": "markdown",
   "id": "67b4d8c8",
   "metadata": {},
   "source": [
    "Explore the beta diversity. The decontaminated file which has samples, PCR and controls AFTER DECONTAMINATION without removing the controls."
   ]
  },
  {
   "cell_type": "code",
   "execution_count": null,
   "id": "1f07d212",
   "metadata": {},
   "outputs": [],
   "source": [
    "!mkdir qiime-analysis-decontam-EBC-PCR"
   ]
  },
  {
   "cell_type": "code",
   "execution_count": null,
   "id": "e79955a0",
   "metadata": {},
   "outputs": [],
   "source": [
    "!qiime diversity core-metrics \\\n",
    "  --i-table decontaminated-controls-EBC-PCR.qza \\\n",
    "  --p-sampling-depth 1000 \\\n",
    "  --m-metadata-file sample-metadata.tsv \\\n",
    "  --output-dir qiime-analyis-decontam-EBC-PCR/CoreDiversity_Results"
   ]
  },
  {
   "cell_type": "markdown",
   "id": "0240ba27",
   "metadata": {},
   "source": [
    "### B.1 Filtering samples and control_wash"
   ]
  },
  {
   "cell_type": "markdown",
   "id": "397a8d0a",
   "metadata": {},
   "source": [
    " Filtering out the samples, and curette wash"
   ]
  },
  {
   "cell_type": "code",
   "execution_count": null,
   "id": "ddf75e8d",
   "metadata": {},
   "outputs": [],
   "source": [
    "qiime feature-table filter-samples \\\n",
    "--i-table table.qza \\\n",
    "--m-metadata-file sample-metadata.tsv \\\n",
    "--p-where \"[SampleORControl] IN ('sample', 'control_wsh')\" \\\n",
    "--o-filtered-table table-filtered-controls-wash.qza\n",
    "\n",
    "##visualise the table\n",
    "!qiime feature-table summarize \\\n",
    "--i-table table-filtered-controls-wash.qza \\\n",
    "--o-visualization table-filtered-controls-wash.qzv \\\n",
    "--m-sample-metadata-file sample-metadata.tsv\n",
    "\n",
    "!qiime tools view table-filtered-controls-wash.qzv"
   ]
  },
  {
   "cell_type": "markdown",
   "id": "49f5acf7",
   "metadata": {},
   "source": [
    "Note: Total samples 91, samples 74, and control_wsh 17"
   ]
  },
  {
   "cell_type": "markdown",
   "id": "4c4fed8d",
   "metadata": {},
   "source": [
    "### B.2. Go to R for decontam (Filter step 2)"
   ]
  },
  {
   "cell_type": "markdown",
   "id": "01a9c4ee",
   "metadata": {},
   "source": [
    "This is second step to generating the contaminants that are present in the curette washes, control_wsh. \n",
    "\n",
    "Run the script in R and this generate a contaminant list."
   ]
  },
  {
   "cell_type": "code",
   "execution_count": null,
   "id": "519ffaca",
   "metadata": {},
   "outputs": [],
   "source": [
    "!cp contaminant_list.tsv contaminant_list-controls-EBC-PCR.tsv"
   ]
  },
  {
   "cell_type": "markdown",
   "id": "c689efb1",
   "metadata": {},
   "source": [
    "### B.3. Filter out the contaminants from control_wsh"
   ]
  },
  {
   "cell_type": "markdown",
   "id": "5dcf959b",
   "metadata": {},
   "source": [
    "Remove/filter out contaminants.The contaminants in the wash; use the file that was filtered out for contaminants present in the PCR and EBC. "
   ]
  },
  {
   "cell_type": "code",
   "execution_count": null,
   "id": "1d338b0f",
   "metadata": {},
   "outputs": [],
   "source": [
    "!qiime feature-table filter-features \\\n",
    "  --i-table decontaminated-controls-EBC-PCR.qza \\\n",
    "  --p-exclude-ids \\\n",
    "  --m-metadata-file contaminants_list-controls-wash.tsv \\\n",
    "  --o-filtered-table decontaminated-controls-wash.qza\n",
    "\n",
    "## Visualise results post-decontamination to cross-check that results are consistent with results from R.\n",
    "!qiime feature-table summarize \\\n",
    "  --i-table decontaminated-controls-wash.qza \\\n",
    "  --m-sample-metadata-file sample-metadata.tsv \\\n",
    "  --o-visualization decontaminated-controls-wash.qzv"
   ]
  },
  {
   "cell_type": "markdown",
   "id": "d3f150d1",
   "metadata": {},
   "source": [
    "*Note:* 901 ASVs features remaining; the post removal of EBC and PCR had 978, and decontam detected 89 contaminants.\n",
    "  Samples 74; control_wash 16 (17) control PCR 10 (13) control EBC 12"
   ]
  },
  {
   "cell_type": "markdown",
   "id": "78b6c41e",
   "metadata": {},
   "source": [
    "Explore using core metrics the decontaminated-controls-wash. look at beta diversity.\n",
    "Exploring decontaminated file which has samples, and controls AFTER 2 step DECONTAM without removing the controls"
   ]
  },
  {
   "cell_type": "code",
   "execution_count": null,
   "id": "35395e91",
   "metadata": {},
   "outputs": [],
   "source": [
    " !qiime diversity core-metrics \\\n",
    "  --i-table decontaminated-controls-wash.qza \\\n",
    "  --p-sampling-depth 1000 \\\n",
    "  --m-metadata-file sample-metadata.tsv \\\n",
    "  --output-dir CoreDiversity_Results-control-wash "
   ]
  },
  {
   "cell_type": "markdown",
   "id": "a0e1b2d8",
   "metadata": {},
   "source": [
    "After the completetion of decontamination twice we can remove the controls from the feature table and that will be out final table for downstram analysis"
   ]
  },
  {
   "cell_type": "markdown",
   "id": "104a696a",
   "metadata": {},
   "source": [
    "## Step 6. Removing the controls"
   ]
  },
  {
   "cell_type": "markdown",
   "id": "c7f679d4",
   "metadata": {},
   "source": [
    "Filtering out all the controls"
   ]
  },
  {
   "cell_type": "code",
   "execution_count": null,
   "id": "b7c2c8f0",
   "metadata": {},
   "outputs": [],
   "source": [
    "!qiime feature-table filter-samples \\\n",
    "  --i-table decontaminated-controls-wash.qza \\\n",
    "  --m-metadata-file sample-metadata.tsv \\\n",
    "  --p-where \"[Control] IN ('N')\" \\\n",
    "  --o-filtered-table samples-clean.qza"
   ]
  },
  {
   "cell_type": "markdown",
   "id": "f025ca93",
   "metadata": {},
   "source": [
    "Removing samples that were plaque ASM"
   ]
  },
  {
   "cell_type": "code",
   "execution_count": null,
   "id": "41d270de",
   "metadata": {},
   "outputs": [],
   "source": [
    "!qiime feature-table filter-samples \\\n",
    "  --i-table samples-clean.qza \\\n",
    "  --m-metadata-file sample-metadata.tsv \\\n",
    "  --p-where \"NOT [SampleType]='PLAQUE_ASM'\" \\\n",
    "  --o-filtered-table sample-clean-filtered.qza"
   ]
  },
  {
   "cell_type": "markdown",
   "id": "011550c3",
   "metadata": {},
   "source": [
    "Filtering out samples that were less than 10"
   ]
  },
  {
   "cell_type": "code",
   "execution_count": null,
   "id": "64be5f66",
   "metadata": {},
   "outputs": [],
   "source": [
    " !qiime feature-table filter-features \\\n",
    "  --i-table sample-clean-filtered.qza \\\n",
    "  --p-min-frequency 10 \\\n",
    "  --o-filtered-table sample-clean-feature-frequency-filtered-table.qza"
   ]
  },
  {
   "cell_type": "code",
   "execution_count": null,
   "id": "b74c8e4f",
   "metadata": {},
   "outputs": [],
   "source": [
    "!qiime feature-table summarize \\\n",
    "--i-table sample-clean-feature-frequency-filtered-table.qza \\\n",
    "--m-sample-metadata-file sample-metadata.tsv \\\n",
    "--o-visualization sample-clean-feature-frequency-filtered-table.qzv"
   ]
  },
  {
   "cell_type": "markdown",
   "id": "63bb7a61",
   "metadata": {},
   "source": [
    "</b> #### We can start analysing the data for downstream analysis. "
   ]
  }
 ],
 "metadata": {
  "kernelspec": {
   "display_name": "Python [conda env:qiime2-2022.11] *",
   "language": "python",
   "name": "conda-env-qiime2-2022.11-py"
  },
  "language_info": {
   "codemirror_mode": {
    "name": "ipython",
    "version": 3
   },
   "file_extension": ".py",
   "mimetype": "text/x-python",
   "name": "python",
   "nbconvert_exporter": "python",
   "pygments_lexer": "ipython3",
   "version": "3.8.15"
  }
 },
 "nbformat": 4,
 "nbformat_minor": 5
}
